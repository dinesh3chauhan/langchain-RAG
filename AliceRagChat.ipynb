{
 "cells": [
  {
   "cell_type": "code",
   "execution_count": 1,
   "id": "5d0d61c5",
   "metadata": {},
   "outputs": [],
   "source": [
    "import requests\n",
    "import json"
   ]
  },
  {
   "cell_type": "code",
   "execution_count": null,
   "id": "d48f9806",
   "metadata": {},
   "outputs": [],
   "source": []
  },
  {
   "cell_type": "code",
   "execution_count": null,
   "id": "8783aa0e",
   "metadata": {},
   "outputs": [],
   "source": []
  },
  {
   "cell_type": "code",
   "execution_count": 2,
   "id": "41cf44f3",
   "metadata": {},
   "outputs": [],
   "source": [
    "from langchain.embeddings.openai import OpenAIEmbeddings\n",
    "from langchain.vectorstores import Chroma\n",
    "from langchain.text_splitter import CharacterTextSplitter\n",
    "from langchain import OpenAI, VectorDBQA\n",
    "from langchain.schema import Document\n",
    "import os\n",
    "import nltk\n",
    "import chromadb"
   ]
  },
  {
   "cell_type": "code",
   "execution_count": 3,
   "id": "7e637aa6",
   "metadata": {},
   "outputs": [
    {
     "data": {
      "text/plain": [
       "True"
      ]
     },
     "execution_count": 3,
     "metadata": {},
     "output_type": "execute_result"
    }
   ],
   "source": [
    "embedding = OpenAIEmbeddings(openai_api_key=\"\")\n",
    "os.environ['ALLOW_RESET'] = 'TRUE'\n",
    "client = chromadb.PersistentClient(path=\"/chromeedb\")\n",
    "client.reset()"
   ]
  },
  {
   "cell_type": "code",
   "execution_count": null,
   "id": "7f8b9c2a",
   "metadata": {},
   "outputs": [],
   "source": []
  },
  {
   "cell_type": "code",
   "execution_count": null,
   "id": "3cf02a2b",
   "metadata": {},
   "outputs": [],
   "source": []
  },
  {
   "cell_type": "code",
   "execution_count": 4,
   "id": "abd2759a",
   "metadata": {},
   "outputs": [
    {
     "name": "stdout",
     "output_type": "stream",
     "text": [
      "https://runep.standupalice.com/api/v2/standup/48915/report?from=2023-10-01&to=2023-10-31&page=0&user_id=\n"
     ]
    }
   ],
   "source": [
    "doc = []\n",
    "\n",
    "for page in range(0,1):\n",
    "    url = \"https://runep.standupalice.com/api/v2/standup/48915/report?from=2023-10-01&to=2023-10-31&page=\"+str(page)+\"&user_id=\"\n",
    "    response = requests.get(url,headers={\"authorization\":\"\"})\n",
    "    c = response.json()\n",
    "    print(url)\n",
    "    lst = []\n",
    "    for item in c['data']['data']: \n",
    "        for data in item['data']:\n",
    "            for answer in data['data']:\n",
    "                row = {}       \n",
    "                \n",
    "                row['question_id'] = data['question']['id']\n",
    "                row['answer'] = answer['response']\n",
    "                row['answered_by'] = answer['personId']\n",
    "                row['standup_date'] = item['day']\n",
    "                lst.append(row)\n",
    "    content = json.dumps(lst)\n",
    "    doc.append(Document(page_content=content))\n",
    "       \n",
    "            "
   ]
  },
  {
   "cell_type": "code",
   "execution_count": 214,
   "id": "cd6e23ee",
   "metadata": {},
   "outputs": [],
   "source": [
    "docs.append(Document(page_content=\"here is the person details in json format in double ticks which correlates to personId in earlier shared standup data. from this datalike person name can be extracted ``\"+json.dumps(c['data']['members'])+\"``\"))"
   ]
  },
  {
   "cell_type": "code",
   "execution_count": 5,
   "id": "257a9fb1",
   "metadata": {},
   "outputs": [
    {
     "data": {
      "text/plain": [
       "[Document(page_content='[{\"question_id\": 242294, \"answer\": \"<ol>\\\\n<li><Bug> Unable to Delete one Pareto List on Prod Account, Only Deleting Its Reason Codes #5844 (task and review points)</li>\\\\n<li>Created the list of changes in bootstrap update which will impact the Project. #5834</li>\\\\n<li>&lt;Project: task&gt; task with its subtask if we delete the parent task then message should be &quot;Delete this task and all of its subtasks&quot; #5845</li>\\\\n</ol>\\\\n\", \"answered_by\": 314704, \"standup_date\": \"2023-10-30\"}, {\"question_id\": 242294, \"answer\": \"<ul>\\\\n<li>PR\\'s issues</li>\\\\n<li>UI Issue: Edit Task Tags. Tag dropdown menu is too wide. Hides the save button. To fix: reduce width of dropdown menu</li>\\\\n</ul>\\\\n\", \"answered_by\": 169198, \"standup_date\": \"2023-10-30\"}, {\"question_id\": 242294, \"answer\": \"1)central-logs: Add logs for create, delete and update department. #5837<br/>\\\\n2)create central object for company_audit_log type and use this object as reference for type while creating company_audit_log records #5847<br/>\\\\n3)<Bug> Show the previous state of tag if user click on cancel button of empty tag popup and if user click on try again button then tag should be in editable state\", \"answered_by\": 319927, \"standup_date\": \"2023-10-30\"}, {\"question_id\": 242294, \"answer\": \"i worked part time today :\\\\n<ul>\\\\n<li>Fixed issue on PR of reactivate task</li>\\\\n<li><Bug> Issue with Replacing Categories After Canceling Deletion</li>\\\\n<li><UI imp> make buttons match style guide BTNUI014 and BTNUI013, cancel on the left (white and grey), confirm on the right (green/red), no check box icons, buttons right aligned in modal</li>\\\\n</ul>\\\\n\", \"answered_by\": 280801, \"standup_date\": \"2023-10-30\"}, {\"question_id\": 242401, \"answer\": \"\\\\u2022 next tasks\", \"answered_by\": 314704, \"standup_date\": \"2023-10-30\"}, {\"question_id\": 242401, \"answer\": \"<ul>\\\\n<li>PR\\'s issues</li>\\\\n</ul>\\\\n\", \"answered_by\": 169198, \"standup_date\": \"2023-10-30\"}, {\"question_id\": 242401, \"answer\": \"<Bug> Show the previous state of tag if user click on cancel button of empty tag popup and if user click on try again button then tag should be in editable state\", \"answered_by\": 319927, \"standup_date\": \"2023-10-30\"}, {\"question_id\": 242401, \"answer\": \"continue with last one\", \"answered_by\": 280801, \"standup_date\": \"2023-10-30\"}, {\"question_id\": 243322, \"answer\": \"tasks: 13/20<br/>\\\\nOpen: 4<br/>\\\\nIn-progress: 1<br/>\\\\nR2M: 1\", \"answered_by\": 314704, \"standup_date\": \"2023-10-30\"}, {\"question_id\": 243322, \"answer\": \"open: 4<br/>\\\\nmerged: 7<br/>\\\\ntotal: 32\", \"answered_by\": 169198, \"standup_date\": \"2023-10-30\"}, {\"question_id\": 243322, \"answer\": \"Task: 15/23,<br/>\\\\nOpen:2,<br/>\\\\nIn-progress:1\", \"answered_by\": 319927, \"standup_date\": \"2023-10-30\"}, {\"question_id\": 243322, \"answer\": \"open = 4<br/>\\\\ntotal = 54\", \"answered_by\": 280801, \"standup_date\": \"2023-10-30\"}, {\"question_id\": 242297, \"answer\": \"<ul>\\\\n<li></li>\\\\n</ul>\\\\n\", \"answered_by\": 314704, \"standup_date\": \"2023-10-30\"}, {\"question_id\": 242297, \"answer\": \"need more tasks to work on.\", \"answered_by\": 169198, \"standup_date\": \"2023-10-30\"}, {\"question_id\": 242297, \"answer\": \"--\", \"answered_by\": 319927, \"standup_date\": \"2023-10-30\"}, {\"question_id\": 242297, \"answer\": \"--\", \"answered_by\": 280801, \"standup_date\": \"2023-10-30\"}, {\"question_id\": 242298, \"answer\": \"<ul>\\\\n<li></li>\\\\n</ul>\\\\n\", \"answered_by\": 314704, \"standup_date\": \"2023-10-30\"}, {\"question_id\": 242298, \"answer\": \"<ul>\\\\n<li></li>\\\\n</ul>\\\\n\", \"answered_by\": 169198, \"standup_date\": \"2023-10-30\"}, {\"question_id\": 242298, \"answer\": \"--\", \"answered_by\": 319927, \"standup_date\": \"2023-10-30\"}, {\"question_id\": 242298, \"answer\": \"won\\'t be available to join huddle today as i\\'m not feeling good\", \"answered_by\": 280801, \"standup_date\": \"2023-10-30\"}, {\"question_id\": 242294, \"answer\": \"<ol>\\\\n<li>creating list for bootstrap update changes which is breaking UI and frontend after Version 3.3.7 to 5.3.2. (in-progress)</li>\\\\n<li>&lt;UI fix&gt; filter input overlapping goals and users dropdown on edit view model (dev-done)</li>\\\\n<li>&lt;Bug&gt; Unable to Delete one Pareto List on Prod Account, Only Deleting Its Reason Codes (Cred. in notes)(in-progress)</li>\\\\n</ol>\\\\n\", \"answered_by\": 314704, \"standup_date\": \"2023-10-27\"}, {\"question_id\": 242294, \"answer\": \"1)central-logs: Add logs for create, delete and update department. #5837<br/>\\\\n2)<Bug> Tag1 Hierarchy Issue: Unable to Create Child Tag After Moving Tag1.1 #5829\", \"answered_by\": 319927, \"standup_date\": \"2023-10-27\"}, {\"question_id\": 242294, \"answer\": \"<ul>\\\\n<li>resloved kyla\\'s comment on PRs</li>\\\\n<li><UI imp>  confirmation popup on metric setup on delete</li>\\\\n<li><UI imp>  create subtasks for all areas in app which need to update it\\'s ui to match style guide BTNUI014 and BTNUI013</li>\\\\n<li><Cloudwatch Error>error - Uncaught Exception thrown Cannot read property \\'id\\' of undefined TypeError: Cannot read property \\'id\\' of undefined</li>\\\\n</ul>\\\\n\", \"answered_by\": 280801, \"standup_date\": \"2023-10-27\"}, {\"question_id\": 242294, \"answer\": \"HB: Single project tile: make tasks fields responsive for all sizes\", \"answered_by\": 169198, \"standup_date\": \"2023-10-27\"}, {\"question_id\": 242401, \"answer\": \"<ol>\\\\n<li>creating list for bootstrap update changes which is breaking UI and frontend after Version 3.3.7 to 5.3.2. (in-progress)</li>\\\\n<li>&lt;Bug&gt; Unable to Delete one Pareto List on Prod Account, Only Deleting Its Reason Codes (Cred. in notes)(in-progress)<br/>\\\\n\\\\u2022 next tasks</li>\\\\n</ol>\\\\n\", \"answered_by\": 314704, \"standup_date\": \"2023-10-27\"}, {\"question_id\": 242401, \"answer\": \"<Bug> Show the previous state of tag if user click on cancel button of empty tag popup and if user click on try again button then tag should be in editable state\", \"answered_by\": 319927, \"standup_date\": \"2023-10-27\"}, {\"question_id\": 242401, \"answer\": \"check issues on PR of reactivate task\", \"answered_by\": 280801, \"standup_date\": \"2023-10-27\"}, {\"question_id\": 242401, \"answer\": \"<ul>\\\\n<li>PR\\'s issues</li>\\\\n<li>Bug 3: samancore:  tabs still showing after tabs deleted in workflow.</li>\\\\n</ul>\\\\n\", \"answered_by\": 169198, \"standup_date\": \"2023-10-27\"}, {\"question_id\": 243322, \"answer\": \"tasks: 7/16<br/>\\\\nOpen: 2<br/>\\\\nR2M: 1<br/>\\\\nIn-progress: 2\", \"answered_by\": 314704, \"standup_date\": \"2023-10-27\"}, {\"question_id\": 243322, \"answer\": \"Task:13/20,<br/>\\\\nOpen:3\", \"answered_by\": 319927, \"standup_date\": \"2023-10-27\"}, {\"question_id\": 243322, \"answer\": \"open = 3<br/>\\\\ntotal = 52\", \"answered_by\": 280801, \"standup_date\": \"2023-10-27\"}, {\"question_id\": 243322, \"answer\": \"open: 2<br/>\\\\nmerged: 7<br/>\\\\ntotal: 31\", \"answered_by\": 169198, \"standup_date\": \"2023-10-27\"}, {\"question_id\": 242297, \"answer\": \"<ul>\\\\n<li></li>\\\\n</ul>\\\\n\", \"answered_by\": 314704, \"standup_date\": \"2023-10-27\"}, {\"question_id\": 242297, \"answer\": \"--\", \"answered_by\": 319927, \"standup_date\": \"2023-10-27\"}, {\"question_id\": 242297, \"answer\": \"--\", \"answered_by\": 280801, \"standup_date\": \"2023-10-27\"}, {\"question_id\": 242297, \"answer\": \"<ul>\\\\n<li></li>\\\\n</ul>\\\\n\", \"answered_by\": 169198, \"standup_date\": \"2023-10-27\"}, {\"question_id\": 242298, \"answer\": \"<ul>\\\\n<li></li>\\\\n</ul>\\\\n\", \"answered_by\": 314704, \"standup_date\": \"2023-10-27\"}, {\"question_id\": 242298, \"answer\": \"--\", \"answered_by\": 319927, \"standup_date\": \"2023-10-27\"}, {\"question_id\": 242298, \"answer\": \"--\", \"answered_by\": 280801, \"standup_date\": \"2023-10-27\"}, {\"question_id\": 242298, \"answer\": \"<ul>\\\\n<li></li>\\\\n</ul>\\\\n\", \"answered_by\": 169198, \"standup_date\": \"2023-10-27\"}, {\"question_id\": 242294, \"answer\": \"<ol>\\\\n<li>&lt;PB-Report&gt;: (UI imp.)Move filters selection under the display options #5813 (Recent UI updates Applied)</li>\\\\n<li>&lt;Bug&gt;Saved View Bug: Table Filters Missing in \\'Edit View\\' Pop-up #5805</li>\\\\n<li>Burp pen report: Vulnerable JavaScript dependency.  bootstrap update to latest version (in-progress)</li>\\\\n</ol>\\\\n\", \"answered_by\": 314704, \"standup_date\": \"2023-10-26\"}, {\"question_id\": 242294, \"answer\": \"1)<Bug> Give default name like 1.1 , 1.1.1 to tags if tag rename to blank #5829<br/>\\\\n2)Revert: (UX fix) Settings: Tags: Delete tag confirmation modal needs to be changed from a replace tag to a simple delete confirmation #5833<br/>\\\\n3)central-logs: Add logs for create, delete and update department.\", \"answered_by\": 319927, \"standup_date\": \"2023-10-26\"}, {\"question_id\": 242294, \"answer\": \"HB: Single project tile: make project fields responsive for all sizes\", \"answered_by\": 169198, \"standup_date\": \"2023-10-26\"}, {\"question_id\": 242294, \"answer\": \"<ul>\\\\n<li>finished Un-archive Tasks: STR: Delete a task. Then search for that task in Advanced search. We currently can not change taks status from deleted. I want to be able to click the task status to re-activate the task. #5827</li>\\\\n<li>(UI improv) when adding a new metric show success message pop-up to be opened from any page in the project so that the viewer is not navigated away from where they are in the app. #5821</li>\\\\n</ul>\\\\n\", \"answered_by\": 280801, \"standup_date\": \"2023-10-26\"}, {\"question_id\": 242401, \"answer\": \"<ol>\\\\n<li>Burp pen report: Vulnerable JavaScript dependency.  bootstrap update to latest version. (latest version of bootstrap is less compatible with angularjs , it will take time to go through with its configuration) (in-progress)<br/>\\\\n\\\\u2022 next tasks</li>\\\\n</ol>\\\\n\", \"answered_by\": 314704, \"standup_date\": \"2023-10-26\"}, {\"question_id\": 242401, \"answer\": \"central-logs: Add logs for create, delete and update department.\", \"answered_by\": 319927, \"standup_date\": \"2023-10-26\"}, {\"question_id\": 242401, \"answer\": \"HB: Single project tile: make tasks fields responsive for all sizes\", \"answered_by\": 169198, \"standup_date\": \"2023-10-26\"}, {\"question_id\": 242401, \"answer\": \"continue with last one\", \"answered_by\": 280801, \"standup_date\": \"2023-10-26\"}, {\"question_id\": 243322, \"answer\": \"Tasks: 5/12<br/>\\\\nOpen: 2<br/>\\\\nIn-progress: 1\", \"answered_by\": 314704, \"standup_date\": \"2023-10-26\"}, {\"question_id\": 243322, \"answer\": \"Task:12/19,<br/>\\\\nOpen:2\", \"answered_by\": 319927, \"standup_date\": \"2023-10-26\"}, {\"question_id\": 243322, \"answer\": \"open: 2<br/>\\\\nmerged: 7<br/>\\\\ntotal: 30\", \"answered_by\": 169198, \"standup_date\": \"2023-10-26\"}, {\"question_id\": 243322, \"answer\": \"open = 4<br/>\\\\ntotal = 37\", \"answered_by\": 280801, \"standup_date\": \"2023-10-26\"}, {\"question_id\": 242297, \"answer\": \"<ul>\\\\n<li></li>\\\\n</ul>\\\\n\", \"answered_by\": 314704, \"standup_date\": \"2023-10-26\"}, {\"question_id\": 242297, \"answer\": \"--\", \"answered_by\": 319927, \"standup_date\": \"2023-10-26\"}, {\"question_id\": 242297, \"answer\": \"<ul>\\\\n<li></li>\\\\n</ul>\\\\n\", \"answered_by\": 169198, \"standup_date\": \"2023-10-26\"}, {\"question_id\": 242297, \"answer\": \"--\", \"answered_by\": 280801, \"standup_date\": \"2023-10-26\"}, {\"question_id\": 242298, \"answer\": \"<ul>\\\\n<li></li>\\\\n</ul>\\\\n\", \"answered_by\": 314704, \"standup_date\": \"2023-10-26\"}, {\"question_id\": 242298, \"answer\": \"--\", \"answered_by\": 319927, \"standup_date\": \"2023-10-26\"}, {\"question_id\": 242298, \"answer\": \"will not be available for huddle\", \"answered_by\": 169198, \"standup_date\": \"2023-10-26\"}, {\"question_id\": 242298, \"answer\": \"--\", \"answered_by\": 280801, \"standup_date\": \"2023-10-26\"}, {\"question_id\": 242294, \"answer\": \"<ol>\\\\n<li>&lt;Bug&gt;Saved View Bug: Table Filters Missing in \\'Edit View\\' Pop-up #5805 (fix needed issues)</li>\\\\n<li>&lt;PB-Report&gt;: (UI imp.)Move filters selection under the display options #5813 (fix needed issues)</li>\\\\n<li>Burp pen report: Vulnerable JavaScript dependency.  bootstrap update to latest version (in-progress)</li>\\\\n</ol>\\\\n\", \"answered_by\": 314704, \"standup_date\": \"2023-10-25\"}, {\"question_id\": 242294, \"answer\": \"1)<Bug> Give default name like 1.1 , 1.1.1 to tags if tag rename to blank PR-5829<br/>\\\\n2)<Bug> Tag1 Hierarchy Issue: Unable to Create Child Tag After Moving Tag1.1 PR-5829\", \"answered_by\": 319927, \"standup_date\": \"2023-10-25\"}, {\"question_id\": 242294, \"answer\": \"<ul>\\\\n<li>Un-archive Tasks:  STR:  Delete a task.  Then search for that task in Advanced search.  We currently can not change taks status from deleted.  I want to be able to click the task status to re-activate the task.</li>\\\\n</ul>\\\\n\", \"answered_by\": 280801, \"standup_date\": \"2023-10-25\"}, {\"question_id\": 242294, \"answer\": \"<ul>\\\\n<li>Huddleboard: Metric tiles: add the &quot;last X periods&quot; option to other metric frequency</li>\\\\n<li><UI Bug> UI fix: HB: Single Project tile on HB: Task tile: make responsive to all tile sizes and mobile friendly - first size</li>\\\\n</ul>\\\\n\", \"answered_by\": 169198, \"standup_date\": \"2023-10-25\"}, {\"question_id\": 242401, \"answer\": \"<ol>\\\\n<li>Burp pen report: Vulnerable JavaScript dependency.  bootstrap update to latest version (in-progress)<br/>\\\\n\\\\u2022 next tasks</li>\\\\n</ol>\\\\n\", \"answered_by\": 314704, \"standup_date\": \"2023-10-25\"}, {\"question_id\": 242401, \"answer\": \"<Bug>Double Loading and Incorrect Redirection of Linked Submetric Icon on Metric Tile/project/goal Page\", \"answered_by\": 319927, \"standup_date\": \"2023-10-25\"}, {\"question_id\": 242401, \"answer\": \"continue with the same\", \"answered_by\": 280801, \"standup_date\": \"2023-10-25\"}, {\"question_id\": 242401, \"answer\": \"continue with <UI Bug> UI fix: HB: Single Project tile on HB: Task tile: make responsive to all tile sizes and mobile friendly\", \"answered_by\": 169198, \"standup_date\": \"2023-10-25\"}, {\"question_id\": 243322, \"answer\": \"Tasks: 5/12<br/>\\\\nOpen: 2<br/>\\\\nIn-progress: 1\", \"answered_by\": 314704, \"standup_date\": \"2023-10-25\"}, {\"question_id\": 243322, \"answer\": \"Task 11/15,<br/>\\\\nOpen:2\", \"answered_by\": 319927, \"standup_date\": \"2023-10-25\"}, {\"question_id\": 243322, \"answer\": \"open = 5<br/>\\\\ntotal = 36\", \"answered_by\": 280801, \"standup_date\": \"2023-10-25\"}, {\"question_id\": 243322, \"answer\": \"open: 2<br/>\\\\nmerged: 7<br/>\\\\ntotal: 23\", \"answered_by\": 169198, \"standup_date\": \"2023-10-25\"}, {\"question_id\": 242297, \"answer\": \"<ul>\\\\n<li></li>\\\\n</ul>\\\\n\", \"answered_by\": 314704, \"standup_date\": \"2023-10-25\"}, {\"question_id\": 242297, \"answer\": \"central logs\", \"answered_by\": 319927, \"standup_date\": \"2023-10-25\"}, {\"question_id\": 242297, \"answer\": \"--\", \"answered_by\": 280801, \"standup_date\": \"2023-10-25\"}, {\"question_id\": 242297, \"answer\": \"<ul>\\\\n<li></li>\\\\n</ul>\\\\n\", \"answered_by\": 169198, \"standup_date\": \"2023-10-25\"}, {\"question_id\": 242298, \"answer\": \"<ul>\\\\n<li></li>\\\\n</ul>\\\\n\", \"answered_by\": 314704, \"standup_date\": \"2023-10-25\"}, {\"question_id\": 242298, \"answer\": \"--\", \"answered_by\": 319927, \"standup_date\": \"2023-10-25\"}, {\"question_id\": 242298, \"answer\": \"--\", \"answered_by\": 280801, \"standup_date\": \"2023-10-25\"}, {\"question_id\": 242298, \"answer\": \"<ul>\\\\n<li></li>\\\\n</ul>\\\\n\", \"answered_by\": 169198, \"standup_date\": \"2023-10-25\"}, {\"question_id\": 242294, \"answer\": \"<ul>\\\\n<li>update PRs from latest staging</li>\\\\n<li>Un-archive Tasks:  STR:  Delete a task.  Then search for that task in Advanced search.  We currently can not change taks status from deleted.  I want to be able to click the task status to re-activate the task.</li>\\\\n<li>1:1 with kyla</li>\\\\n</ul>\\\\n\", \"answered_by\": 280801, \"standup_date\": \"2023-10-24\"}, {\"question_id\": 242294, \"answer\": \"<ul>\\\\n<li>(UX fix) Settings: Tags: Delete tag confirmation modal needs to be changed from a replace tag to a simple delete confirmation</li>\\\\n<li>(UI impr) Settings: Workflow: New tile, Projects: Charter: New Tile: order of show/hide tiles section is not the same. Make them the same</li>\\\\n</ul>\\\\n\", \"answered_by\": 169198, \"standup_date\": \"2023-10-24\"}, {\"question_id\": 242401, \"answer\": \"continue with last one\", \"answered_by\": 280801, \"standup_date\": \"2023-10-24\"}, {\"question_id\": 242401, \"answer\": \"<UI Bug> UI fix: HB: Single Project tile on HB: Task tile: make responsive to all tile sizes and mobile friendly\", \"answered_by\": 169198, \"standup_date\": \"2023-10-24\"}, {\"question_id\": 243322, \"answer\": \"open = 5<br/>\\\\ntotal = 31\", \"answered_by\": 280801, \"standup_date\": \"2023-10-24\"}, {\"question_id\": 243322, \"answer\": \"open: 1<br/>\\\\nmerged: 7<br/>\\\\ntotal: 23\", \"answered_by\": 169198, \"standup_date\": \"2023-10-24\"}, {\"question_id\": 242297, \"answer\": \"--\", \"answered_by\": 280801, \"standup_date\": \"2023-10-24\"}, {\"question_id\": 242297, \"answer\": \"<ul>\\\\n<li></li>\\\\n</ul>\\\\n\", \"answered_by\": 169198, \"standup_date\": \"2023-10-24\"}, {\"question_id\": 242298, \"answer\": \"--\", \"answered_by\": 280801, \"standup_date\": \"2023-10-24\"}, {\"question_id\": 242298, \"answer\": \"<ul>\\\\n<li></li>\\\\n</ul>\\\\n\", \"answered_by\": 169198, \"standup_date\": \"2023-10-24\"}, {\"question_id\": 242294, \"answer\": \"<ul>\\\\n<li>(UI improv) Add new Metric: when adding a new metric show success message pop-up that has buttons to &quot;open metric&quot; &quot;okay&quot; and &quot;x&quot; - can metric modal be opened from any page in the project so that the viewer is not navigated away from where they are in the app.</li>\\\\n<li><Cloudwatch Error>error - Uncaught Exception thrown Cannot read property \\'id\\' of undefined TypeError: Cannot read property \\'id\\' of undefined</li>\\\\n<li>(Ux/ui imp) Project Portfolio Timeline View: Update date picker to have preset date ranges (this week, month, quarter, year) and. consolidate start and end date picker into singular calendar component</li>\\\\n<li>call with rohit</li>\\\\n</ul>\\\\n\", \"answered_by\": 280801, \"standup_date\": \"2023-10-23\"}, {\"question_id\": 242401, \"answer\": \"<ul>\\\\n<li>call 1:1 with kyla</li>\\\\n<li>continue with last one</li>\\\\n</ul>\\\\n\", \"answered_by\": 280801, \"standup_date\": \"2023-10-23\"}, {\"question_id\": 243322, \"answer\": \"open = 7<br/>\\\\ntotal = 29\", \"answered_by\": 280801, \"standup_date\": \"2023-10-23\"}, {\"question_id\": 242297, \"answer\": \"keith .. can you please give me decision regarding https://github.com/KPIFire/kpifire/pull/5775 ? or should i close it for now ?\", \"answered_by\": 280801, \"standup_date\": \"2023-10-23\"}, {\"question_id\": 242298, \"answer\": \"--\", \"answered_by\": 280801, \"standup_date\": \"2023-10-23\"}, {\"question_id\": 242294, \"answer\": \"<ol>\\\\n<li>&lt;PB-Report&gt;: (UI imp.)Move filters selection under the display options #5813</li>\\\\n<li>Burp pen report: Vulnerable JavaScript dependency.  bootstrap update to latest version (in-progress)</li>\\\\n</ol>\\\\n\", \"answered_by\": 314704, \"standup_date\": \"2023-10-20\"}, {\"question_id\": 242294, \"answer\": \"<ul>\\\\n<li><urgent><Staging bug> Advanced Search Bug: Filters on Task Page Limited to Tag-Containing Tasks Only</li>\\\\n<li><bug><advanced search> when select operator and no value added, it breaks and console error coming</li>\\\\n</ul>\\\\n\", \"answered_by\": 169198, \"standup_date\": \"2023-10-20\"}, {\"question_id\": 242294, \"answer\": \"1)<Bug>Duplicate Tags Created When Renaming #5803<br/>\\\\n2)Error on updatingMetricDashboardField api, metric dashboard field not found for fieldId<br/>\\\\n3)<Bug>On taks adding 2 new tag with same name and then save project duplicate tags will be created PR-5819\", \"answered_by\": 319927, \"standup_date\": \"2023-10-20\"}, {\"question_id\": 242294, \"answer\": \"<ul>\\\\n<li>resolved kyla\\'s comment on PRs</li>\\\\n<li>(UI Imp) Project portfolio Timeline View: Add vertical line for &quot;current date indicator&quot;</li>\\\\n<li><Cloudwatch error> error Column \\'dependent_task_id\\' cannot be null.</li>\\\\n<li>(UI imp) Moved advanced search and quick search to right justified and beneath filter buttons</li>\\\\n<li>(UI improv) Add new Metric: when adding a new metric show success message pop-up that has buttons to &quot;open metric&quot; &quot;okay&quot; and &quot;x&quot; - can metric modal be opened from any page in the project so that the viewer is not navigated away from where they are in the app.</li>\\\\n</ul>\\\\n\", \"answered_by\": 280801, \"standup_date\": \"2023-10-20\"}, {\"question_id\": 242401, \"answer\": \"<ol>\\\\n<li>Burp pen report: Vulnerable JavaScript dependency.  bootstrap update to latest version (in-progress)</li>\\\\n<li>&lt;Bug&gt;Saved View Bug: Table Filters Missing in \\'Edit View\\' Pop-up<br/>\\\\n\\\\u2022 next tasks</li>\\\\n</ol>\\\\n\", \"answered_by\": 314704, \"standup_date\": \"2023-10-20\"}, {\"question_id\": 242401, \"answer\": \"<ul>\\\\n<li>(UX fix) Settings: Tags: Delete tag confirmation modal needs to be changed from a replace tag to a simple delete confirmation</li>\\\\n<li>\\\\n<ul>\\\\n<li>(UX Imp) ProjectTags: Manage All Tags: expand the color picker when a new tag is added; so that user sees they can edit the color of the tag (which they most likely will)</li>\\\\n</ul>\\\\n</li>\\\\n</ul>\\\\n\", \"answered_by\": 169198, \"standup_date\": \"2023-10-20\"}, {\"question_id\": 242401, \"answer\": \"<Bug>Double Loading and Incorrect Redirection of Linked Submetric Icon on Metric Tile/project/goal Page\", \"answered_by\": 319927, \"standup_date\": \"2023-10-20\"}, {\"question_id\": 242401, \"answer\": \"<ul>\\\\n<li>continue with last one</li>\\\\n<li>timeline tasks</li>\\\\n</ul>\\\\n\", \"answered_by\": 280801, \"standup_date\": \"2023-10-20\"}, {\"question_id\": 243322, \"answer\": \"tasks: 5/11<br/>\\\\nOpen: 2<br/>\\\\nFix needed: 1<br/>\\\\nin-progress: 1\", \"answered_by\": 314704, \"standup_date\": \"2023-10-20\"}, {\"question_id\": 243322, \"answer\": \"open: 2<br/>\\\\nmerged: 7<br/>\\\\ntotal: 25\", \"answered_by\": 169198, \"standup_date\": \"2023-10-20\"}, {\"question_id\": 243322, \"answer\": \"Total:13,<br/>\\\\nMerged:3,<br/>\\\\nOpen:5\", \"answered_by\": 319927, \"standup_date\": \"2023-10-20\"}, {\"question_id\": 243322, \"answer\": \"open = 5<br/>\\\\ntotal = 29\", \"answered_by\": 280801, \"standup_date\": \"2023-10-20\"}, {\"question_id\": 242297, \"answer\": \"<ul>\\\\n<li></li>\\\\n</ul>\\\\n\", \"answered_by\": 314704, \"standup_date\": \"2023-10-20\"}, {\"question_id\": 242297, \"answer\": \"<ul>\\\\n<li></li>\\\\n</ul>\\\\n\", \"answered_by\": 169198, \"standup_date\": \"2023-10-20\"}, {\"question_id\": 242297, \"answer\": \"--\", \"answered_by\": 319927, \"standup_date\": \"2023-10-20\"}, {\"question_id\": 242297, \"answer\": \"--\", \"answered_by\": 280801, \"standup_date\": \"2023-10-20\"}, {\"question_id\": 242298, \"answer\": \"<ul>\\\\n<li></li>\\\\n</ul>\\\\n\", \"answered_by\": 314704, \"standup_date\": \"2023-10-20\"}, {\"question_id\": 242298, \"answer\": \"<ul>\\\\n<li></li>\\\\n</ul>\\\\n\", \"answered_by\": 169198, \"standup_date\": \"2023-10-20\"}, {\"question_id\": 242298, \"answer\": \"I will be on leave this monday.\", \"answered_by\": 319927, \"standup_date\": \"2023-10-20\"}, {\"question_id\": 242298, \"answer\": \"won\\'t be available to join a huddle call today\", \"answered_by\": 280801, \"standup_date\": \"2023-10-20\"}, {\"question_id\": 242294, \"answer\": \"<ol>\\\\n<li>&lt;Bug&gt;Saved View Bug: Table Filters Missing in \\'Edit View\\' Pop-up #5805</li>\\\\n<li>latest bootstrap update to project (in-progress)</li>\\\\n</ol>\\\\n\", \"answered_by\": 314704, \"standup_date\": \"2023-10-19\"}, {\"question_id\": 242294, \"answer\": \"1)<Bug>Duplicate Tags Created When Renaming.<br/>\\\\n2)<Cloudwatch error>Error on updatingMetricDashboardField api, metric dashboard field not found for fieldId\", \"answered_by\": 319927, \"standup_date\": \"2023-10-19\"}, {\"question_id\": 242294, \"answer\": \"<ul>\\\\n<li>(UI Imp) Projects: Tasks: tags filter button dropdown - add related color squares to left of tag name</li>\\\\n<li>(UX fix) ProjectTags: Manage All Tags: open in a new tab; so that user has both the project and settings open in different tabs, simultaneously.</li>\\\\n<li>top few filter</li>\\\\n</ul>\\\\n\", \"answered_by\": 169198, \"standup_date\": \"2023-10-19\"}, {\"question_id\": 242294, \"answer\": \"<ul>\\\\n<li>updated the PR regarding kyla comments on (UI Imp) Projects, Tasks, Category and Project Benefits: update the btns and Delete confirmation modal needs ui update to match standards. #5796</li>\\\\n<li>Xmatrix and Portfolio Timeline view: show 2 bars/ lines for Target start-end &amp; Actual start-end dates #5807</li>\\\\n</ul>\\\\n\", \"answered_by\": 280801, \"standup_date\": \"2023-10-19\"}, {\"question_id\": 242401, \"answer\": \"<ol>\\\\n<li>latest bootstrap update to project (in-progress)<br/>\\\\n\\\\u2022 next tasks</li>\\\\n</ol>\\\\n\", \"answered_by\": 314704, \"standup_date\": \"2023-10-19\"}, {\"question_id\": 242401, \"answer\": \"<Cloudwatch error>Error on updatingMetricDashboardField api, metric dashboard field not found for fieldId\", \"answered_by\": 319927, \"standup_date\": \"2023-10-19\"}, {\"question_id\": 242401, \"answer\": \"<ul>\\\\n<li>(UX fix) Settings: Tags: Delete tag confirmation modal needs to be changed from a replace tag to a simple delete confirmation</li>\\\\n<li>(UX Imp) ProjectTags: Manage All Tags: expand the color picker when a new tag is added; so that user sees they can edit the color of the tag (which they most likely will)</li>\\\\n<li>check advanced search</li>\\\\n</ul>\\\\n\", \"answered_by\": 169198, \"standup_date\": \"2023-10-19\"}, {\"question_id\": 242401, \"answer\": \"<ul>\\\\n<li>will check issues on PRs</li>\\\\n<li>next assigned task</li>\\\\n</ul>\\\\n\", \"answered_by\": 280801, \"standup_date\": \"2023-10-19\"}, {\"question_id\": 243322, \"answer\": \"tasks: 3/10<br/>\\\\nOpen: 1<br/>\\\\nIn-progress: 1\", \"answered_by\": 314704, \"standup_date\": \"2023-10-19\"}, {\"question_id\": 243322, \"answer\": \"Task:13,<br/>\\\\nMerged:3,<br/>\\\\nOpen:2\", \"answered_by\": 319927, \"standup_date\": \"2023-10-19\"}, {\"question_id\": 243322, \"answer\": \"open: 2<br/>\\\\nmerged: 5<br/>\\\\ntotal: 19\", \"answered_by\": 169198, \"standup_date\": \"2023-10-19\"}, {\"question_id\": 243322, \"answer\": \"open = 3<br/>\\\\ntotal = 28\", \"answered_by\": 280801, \"standup_date\": \"2023-10-19\"}, {\"question_id\": 242297, \"answer\": \"<ul>\\\\n<li></li>\\\\n</ul>\\\\n\", \"answered_by\": 314704, \"standup_date\": \"2023-10-19\"}, {\"question_id\": 242297, \"answer\": \"--\", \"answered_by\": 319927, \"standup_date\": \"2023-10-19\"}, {\"question_id\": 242297, \"answer\": \"<ul>\\\\n<li></li>\\\\n</ul>\\\\n\", \"answered_by\": 169198, \"standup_date\": \"2023-10-19\"}, {\"question_id\": 242297, \"answer\": \"--\", \"answered_by\": 280801, \"standup_date\": \"2023-10-19\"}, {\"question_id\": 242298, \"answer\": \"<ul>\\\\n<li></li>\\\\n</ul>\\\\n\", \"answered_by\": 314704, \"standup_date\": \"2023-10-19\"}, {\"question_id\": 242298, \"answer\": \"--\", \"answered_by\": 319927, \"standup_date\": \"2023-10-19\"}, {\"question_id\": 242298, \"answer\": \"<ul>\\\\n<li></li>\\\\n</ul>\\\\n\", \"answered_by\": 169198, \"standup_date\": \"2023-10-19\"}, {\"question_id\": 242298, \"answer\": \"--\", \"answered_by\": 280801, \"standup_date\": \"2023-10-19\"}, {\"question_id\": 242294, \"answer\": \"<ol>\\\\n<li>&lt;Bug&gt;Saved View Bug: Table Filters Missing in \\'Edit View\\' Pop-up #5805</li>\\\\n<li>latest bootstrap update to project (in-progress)</li>\\\\n</ol>\\\\n\", \"answered_by\": 314704, \"standup_date\": \"2023-10-18\"}, {\"question_id\": 242294, \"answer\": \"1)<Bug>Team members are being added multiple times when the &quot;Add Member&quot; button is clicked continuously. #5806<br/>\\\\n2)<BUg>Duplicate Owner Creation in Huddleboard Edit Popup\\'s Teams Tab #5799<br/>\\\\n3)<Bug>Duplicate Tags Created When Renaming #5803\", \"answered_by\": 319927, \"standup_date\": \"2023-10-18\"}, {\"question_id\": 242294, \"answer\": \"<ul>\\\\n<li>Xmatrix Timeline view: show 2 bars/ lines for Target dates &amp; Actual dates #5807</li>\\\\n<li>call with wafia regrading the urgent bug Huber - Export Issue - I am testing exporting metric file, making changes and importing it back to see if changes can seen in KPI Fire. Here is an example and also the csv file attached. First metric is updated but second metric is not updating. I made some data less than 100% on the second metric but changes are not updating.</li>\\\\n</ul>\\\\n\", \"answered_by\": 280801, \"standup_date\": \"2023-10-18\"}, {\"question_id\": 242401, \"answer\": \"<ol>\\\\n<li>&lt;Bug&gt;Saved View Bug: Table Filters Missing in \\'Edit View\\' Pop-up #5805</li>\\\\n<li>latest bootstrap update to project (in-progress)<br/>\\\\n\\\\u2022 next tasks</li>\\\\n</ol>\\\\n\", \"answered_by\": 314704, \"standup_date\": \"2023-10-18\"}, {\"question_id\": 242401, \"answer\": \"<Bug>Duplicate Tags Created When Renaming #5803\", \"answered_by\": 319927, \"standup_date\": \"2023-10-18\"}, {\"question_id\": 242401, \"answer\": \"continue with first one Xmatrix Timeline view: show 2 bars/ lines for Target dates &amp; Actual dates\", \"answered_by\": 280801, \"standup_date\": \"2023-10-18\"}, {\"question_id\": 243322, \"answer\": \"tasks: 2/9<br/>\\\\nOpen: 1<br/>\\\\nIn-progress: 2<br/>\\\\nFix needed: 1\", \"answered_by\": 314704, \"standup_date\": \"2023-10-18\"}, {\"question_id\": 243322, \"answer\": \"Total:10,<br/>\\\\nOpen:4\", \"answered_by\": 319927, \"standup_date\": \"2023-10-18\"}, {\"question_id\": 243322, \"answer\": \"open = 3<br/>\\\\nmerged = 1<br/>\\\\ntotal = 23\", \"answered_by\": 280801, \"standup_date\": \"2023-10-18\"}, {\"question_id\": 242297, \"answer\": \"<ul>\\\\n<li></li>\\\\n</ul>\\\\n\", \"answered_by\": 314704, \"standup_date\": \"2023-10-18\"}, {\"question_id\": 242297, \"answer\": \"--\", \"answered_by\": 319927, \"standup_date\": \"2023-10-18\"}, {\"question_id\": 242297, \"answer\": \"--\", \"answered_by\": 280801, \"standup_date\": \"2023-10-18\"}, {\"question_id\": 242298, \"answer\": \"<ul>\\\\n<li></li>\\\\n</ul>\\\\n\", \"answered_by\": 314704, \"standup_date\": \"2023-10-18\"}, {\"question_id\": 242298, \"answer\": \"--\", \"answered_by\": 319927, \"standup_date\": \"2023-10-18\"}, {\"question_id\": 242298, \"answer\": \"--\", \"answered_by\": 280801, \"standup_date\": \"2023-10-18\"}]')]"
      ]
     },
     "execution_count": 5,
     "metadata": {},
     "output_type": "execute_result"
    }
   ],
   "source": [
    "doc"
   ]
  },
  {
   "cell_type": "code",
   "execution_count": 5,
   "id": "580f4320",
   "metadata": {},
   "outputs": [
    {
     "data": {
      "text/plain": [
       "1"
      ]
     },
     "execution_count": 5,
     "metadata": {},
     "output_type": "execute_result"
    }
   ],
   "source": [
    "len(doc)"
   ]
  },
  {
   "cell_type": "code",
   "execution_count": 6,
   "id": "d17fe11a",
   "metadata": {},
   "outputs": [],
   "source": [
    "##docs= [Document(page_content=\"{\\\"day\\\":\\\"2023-11-01\\\",\\\"data\\\":[{\\\"question\\\":{\\\"id\\\":195143,\\\"type\\\":\\\"PLAIN\\\",\\\"reportType\\\":\\\"AS_IS\\\",\\\"text\\\":\\\"What did you complete yesterday?\\\",\\\"lowLimit\\\":-2147483648,\\\"highLimit\\\":2147483647,\\\"anonyme\\\":false,\\\"optional\\\":false,\\\"order\\\":0},\\\"data\\\":[{\\\"personId\\\":248665,\\\"response\\\":\\\"Yesterday I created a Toolbox page to make the prior sidebar nav obsolete.\\<br/\\>\\\\nI also worked on previous bugs in the PGS project.\\<br/\\>\\\\nI also looked into issues regarding CVV and connected with Dinesh Chauhan and asked him to review the PR on it.\\\"},{\\\"personId\\\":248656,\\\"response\\\":\\\"I was working on CHat Gpt Integeration with standup Alice.\\<br/\\>\\\\nReviwed PR raised by Ashish on PGS.\\<br/\\>\\\\nLooked into some issue shared by Deepankar\\\"},{\\\"personId\\\":248664,\\\"response\\\":\\\"test staging complex\\<br/\\>\\\\nthis is line 2 of testing\\<br/\\>\\\\nline 3 of testing\\\"}]},{\\\"question\\\":{\\\"id\\\":195144,\\\"type\\\":\\\"PLAIN\\\",\\\"reportType\\\":\\\"AS_IS\\\",\\\"text\\\":\\\"What do you commit to today?\\\",\\\"lowLimit\\\":-2147483648,\\\"highLimit\\\":2147483647,\\\"anonyme\\\":false,\\\"optional\\\":false,\\\"order\\\":1},\\\"data\\\":[{\\\"personId\\\":248665,\\\"response\\\":\\\"I will be working on the Whole Team plan page in PGS to make it read only for all tasks except the users own.\\<br/\\>\\\\nAnd Jayanti will provide KT to me  regarding Strategy Box.\\\"},{\\\"personId\\\":248656,\\\"response\\\":\\\"Continue working on Chat gpt integration with Alice. Review more PRs from Ahish and Deepankar\\\"},{\\\"personId\\\":248664,\\\"response\\\":\\\"3 tasks\\\\n\\<ol\\>\\\\n\\<li\\>xss protection\\</li\\>\\\\n\\<li\\>bot in local\\</li\\>\\\\n\\<li\\>bot in staging\\</li\\>\\\\n\\</ol\\>\\\\n\\\"}]},{\\\"question\\\":{\\\"id\\\":195145,\\\"type\\\":\\\"PLAIN\\\",\\\"reportType\\\":\\\"AS_IS\\\",\\\"text\\\":\\\"When do you think you\\'ll be done with that?\\\",\\\"lowLimit\\\":-2147483648,\\\"highLimit\\\":2147483647,\\\"anonyme\\\":false,\\\"optional\\\":false,\\\"order\\\":2},\\\"data\\\":[{\\\"personId\\\":248665,\\\"response\\\":\\\"I will be working on the Whole Team plan for the next 2 days. I am on track with the current sprint.\\\"},{\\\"personId\\\":248656,\\\"response\\\":\\\"Chat GPT integration will take may be a week more in fine tuning.\\<br/\\>\\\\nPRs will be reviewed\\\"},{\\\"personId\\\":248664,\\\"response\\\":\\\"3 days\\\"}]},{\\\"question\\\":{\\\"id\\\":195146,\\\"type\\\":\\\"PLAIN\\\",\\\"reportType\\\":\\\"AS_IS\\\",\\\"text\\\":\\\"Any impediments in your way?\\\",\\\"lowLimit\\\":-2147483648,\\\"highLimit\\\":2147483647,\\\"anonyme\\\":false,\\\"optional\\\":false,\\\"order\\\":3},\\\"data\\\":[{\\\"personId\\\":248665,\\\"response\\\":\\\"Jayanti Sharma might not be available to do QA of the task delivered.\\\"},{\\\"personId\\\":248656,\\\"response\\\":\\\"Not any right now\\\"},{\\\"personId\\\":248664,\\\"response\\\":\\\"No\\\"}]}],\\\"persons\\\":{\\\"248665\\\":{\\\"displayName\\\":\\\"Ashish Rawat (@ashish)\\\",\\\"photoUri\\\":\\\"https://secure.gravatar.com/avatar/63cca043c53a51986cf60cc0882f7bb0.jpg?s\\=72\\&d\\=https%3A%2F%2Fa.slack-edge.com%2Fdf10d%2Fimg%2Favatars%2Fava_0018-72.png\\\"},\\\"248656\\\":{\\\"displayName\\\":\\\"Dinesh Chauhan (@dinesh.chauhan)\\\",\\\"photoUri\\\":\\\"https://secure.gravatar.com/avatar/b9b2f5cb339828132db311393596ae91.jpg?s\\=72\\&d\\=https%3A%2F%2Fa.slack-edge.com%2Fdf10d%2Fimg%2Favatars%2Fava_0015-72.png\\\"},\\\"248664\\\":{\\\"displayName\\\":\\\"Deepankar Batra (@deepankar)\\\",\\\"photoUri\\\":\\\"https://avatars.slack-edge.com/2023-10-16/6042459146483_51a311bdd4383821325c_72.jpg\\\"}},\\\"isFullReport\\\":false,\\\"skippers\\\":[],\\\"missedMembers\\\":[248658],\\\"sickers\\\":[],\\\"vacationers\\\":[],\\\"laters\\\":[]}] ``` . In this json data there is a array of standup questions and answers . Here is another json data on team members details in double ticks ``[{\\\"id\\\":248664,\\\"rawId\\\":\\\"U02BFC7EYN8\\\",\\\"displayName\\\":\\\"Deepankar Batra\\\",\\\"handlerName\\\":\\\"deepankar\\\",\\\"avatar\\\":\\\"https://avatars.slack-edge.com/2023-10-16/6042459146483_51a311bdd4383821325c_72.jpg\\\",\\\"timezoneId\\\":\\\"Asia/Kolkata\\\",\\\"orgRawId\\\":\\\"TRSAZM2BW\\\",\\\"email\\\":\\\"deepankar@appricus.com\\\",\\\"admin\\\":false,\\\"state\\\":\\\"DEFAULT\\\"},{\\\"id\\\":248658,\\\"rawId\\\":\\\"U02MSP2UFNF\\\",\\\"displayName\\\":\\\"Jayanti Sharma\\\",\\\"handlerName\\\":\\\"jayanti\\\",\\\"avatar\\\":\\\"https://avatars.slack-edge.com/2021-12-17/2857750584372_ec5834ae528775a4a0b9_72.jpg\\\",\\\"timezoneId\\\":\\\"Asia/Calcutta\\\",\\\"orgRawId\\\":\\\"TRSAZM2BW\\\",\\\"email\\\":\\\"jayanti@appricus.com\\\",\\\"admin\\\":true,\\\"state\\\":\\\"DEFAULT\\\"},{\\\"id\\\":248656,\\\"rawId\\\":\\\"U04KC6QS4PK\\\",\\\"displayName\\\":\\\"Dinesh Chauhan\\\",\\\"handlerName\\\":\\\"dinesh.chauhan\\\",\\\"avatar\\\":\\\"https://secure.gravatar.com/avatar/b9b2f5cb339828132db311393596ae91.jpg?s\\=72\\&d\\=https%3A%2F%2Fa.slack-edge.com%2Fdf10d%2Fimg%2Favatars%2Fava_0015-72.png\\\",\\\"timezoneId\\\":\\\"Asia/Kolkata\\\",\\\"orgRawId\\\":\\\"TRSAZM2BW\\\",\\\"email\\\":\\\"dinesh.chauhan@appricus.com\\\",\\\"admin\\\":true,\\\"state\\\":\\\"DEFAULT\\\"},{\\\"id\\\":248665,\\\"rawId\\\":\\\"U05UMDB2X6C\\\",\\\"displayName\\\":\\\"Ashish Rawat\\\",\\\"handlerName\\\":\\\"ashish\\\",\\\"avatar\\\":\\\"https://secure.gravatar.com/avatar/63cca043c53a51986cf60cc0882f7bb0.jpg?s\\=72\\&d\\=https%3A%2F%2Fa.slack-edge.com%2Fdf10d%2Fimg%2Favatars%2Fava_0018-72.png\\\",\\\"timezoneId\\\":\\\"Asia/Kolkata\\\",\\\"orgRawId\\\":\\\"TRSAZM2BW\\\",\\\"email\\\":\\\"ashish@appricus.com\\\",\\\"admin\\\":false,\\\"state\\\":\\\"DEFAULT\\\"}\")]\n",
    "\n",
    "docsearch = Chroma.from_documents(doc,embedding,persist_directory=\"/chromeetdb\")"
   ]
  },
  {
   "cell_type": "code",
   "execution_count": 7,
   "id": "a2a957ce",
   "metadata": {},
   "outputs": [
    {
     "name": "stdout",
     "output_type": "stream",
     "text": [
      "name='langchain' id=UUID('0d1184f6-4a39-4d18-8d37-12b12480d7a3') metadata=None\n"
     ]
    }
   ],
   "source": [
    "print(docsearch._collection)"
   ]
  },
  {
   "cell_type": "code",
   "execution_count": 8,
   "id": "6431dc6d",
   "metadata": {},
   "outputs": [],
   "source": [
    "from langchain.chains import RetrievalQA"
   ]
  },
  {
   "cell_type": "code",
   "execution_count": null,
   "id": "b00f05c8",
   "metadata": {},
   "outputs": [],
   "source": []
  },
  {
   "cell_type": "code",
   "execution_count": 9,
   "id": "3715449a",
   "metadata": {},
   "outputs": [
    {
     "name": "stderr",
     "output_type": "stream",
     "text": [
      "C:\\Users\\Dinesh Chauhan\\anaconda3\\Lib\\site-packages\\langchain\\llms\\openai.py:216: UserWarning: You are trying to use a chat model. This way of initializing it is no longer supported. Instead, please use: `from langchain.chat_models import ChatOpenAI`\n",
      "  warnings.warn(\n",
      "C:\\Users\\Dinesh Chauhan\\anaconda3\\Lib\\site-packages\\langchain\\llms\\openai.py:811: UserWarning: You are trying to use a chat model. This way of initializing it is no longer supported. Instead, please use: `from langchain.chat_models import ChatOpenAI`\n",
      "  warnings.warn(\n"
     ]
    }
   ],
   "source": [
    "llm = OpenAI(openai_api_key=\"\",model_name= 'gpt-3.5-turbo-16k')\n",
    "   "
   ]
  },
  {
   "cell_type": "code",
   "execution_count": 31,
   "id": "aa4fb585",
   "metadata": {},
   "outputs": [],
   "source": []
  },
  {
   "cell_type": "code",
   "execution_count": 32,
   "id": "54c5ff5d",
   "metadata": {},
   "outputs": [],
   "source": []
  },
  {
   "cell_type": "code",
   "execution_count": 33,
   "id": "a1537b15",
   "metadata": {},
   "outputs": [
    {
     "data": {
      "text/plain": [
       "VectorStoreRetriever(tags=['Chroma', 'OpenAIEmbeddings'], vectorstore=<langchain.vectorstores.chroma.Chroma object at 0x0000015FA0C9D910>)"
      ]
     },
     "execution_count": 33,
     "metadata": {},
     "output_type": "execute_result"
    }
   ],
   "source": [
    "docsearch.as_retriever()"
   ]
  },
  {
   "cell_type": "code",
   "execution_count": 10,
   "id": "b76596c9",
   "metadata": {},
   "outputs": [],
   "source": [
    "from langchain.prompts import PromptTemplate\n",
    "\n",
    "# Build prompt\n",
    "template = \"\"\"the given data is in json format. answered_by field is id of members who submitted the standup.\n",
    "standup_date field gives the date on which that perticular question was asked on the standup of that date\n",
    "314704 is ID of Mayank Solanki, 319927  is ID of Dinesh Chauhan 169198 is ID of Rehab 280801 is ID of lmiaabogdady . \n",
    "Similarly the relation between question_id to Question text is as follows \n",
    "question_id:242294, question text: What did you complete yesterday?\n",
    "question_id: 242401, question text: What do you commit to today?\n",
    "question_id: 243322, question text: Your Daily #\n",
    "question_id: 242297 , question text: Blocked/Waiting on?\n",
    "question_id: 242298, question text: Any other news or items to add to retrospective? \n",
    "{context}\n",
    "Question: {question}\n",
    "\"\"\"\n",
    "QA_CHAIN_PROMPT = PromptTemplate.from_template(template)\n"
   ]
  },
  {
   "cell_type": "code",
   "execution_count": 11,
   "id": "137af436",
   "metadata": {},
   "outputs": [],
   "source": [
    "qa_chain_prompt = RetrievalQA.from_chain_type(\n",
    "    llm = llm,\n",
    "    retriever=docsearch.as_retriever(),\n",
    "    return_source_documents=True,\n",
    "    chain_type=\"stuff\",\n",
    "    chain_type_kwargs={\"prompt\": QA_CHAIN_PROMPT}\n",
    ")"
   ]
  },
  {
   "cell_type": "code",
   "execution_count": 12,
   "id": "35d7bcdb",
   "metadata": {},
   "outputs": [],
   "source": [
    "qa_chain = RetrievalQA.from_chain_type(\n",
    "    llm = llm,\n",
    "    retriever=docsearch.as_retriever(),\n",
    "    chain_type=\"refine\"\n",
    ")"
   ]
  },
  {
   "cell_type": "code",
   "execution_count": 12,
   "id": "2d51235a",
   "metadata": {},
   "outputs": [
    {
     "name": "stderr",
     "output_type": "stream",
     "text": [
      "Number of requested results 4 is greater than number of elements in index 1, updating n_results = 1\n"
     ]
    },
    {
     "data": {
      "text/plain": [
       "'The given data is a collection of standup answers submitted by different members. Each entry in the data represents a standup answer and includes information such as the question ID, the answer provided, the member who submitted the answer (referenced by their ID), and the date of the standup. The answers provided by the members are in relation to specific questions asked during the standup.'"
      ]
     },
     "execution_count": 12,
     "metadata": {},
     "output_type": "execute_result"
    }
   ],
   "source": [
    "result = qa_chain_prompt({\"query\": \" what this data ia about\"})\n",
    "result[\"result\"]"
   ]
  },
  {
   "cell_type": "code",
   "execution_count": 13,
   "id": "367dc0fb",
   "metadata": {},
   "outputs": [
    {
     "name": "stderr",
     "output_type": "stream",
     "text": [
      "Number of requested results 4 is greater than number of elements in index 1, updating n_results = 1\n"
     ]
    },
    {
     "data": {
      "text/plain": [
       "'Based on the given data, there are 4 members (Mayank Solanki, Dinesh Chauhan, Rehab, and lmiaabogdady) who participated in the standup.'"
      ]
     },
     "execution_count": 13,
     "metadata": {},
     "output_type": "execute_result"
    }
   ],
   "source": [
    "result = qa_chain_prompt({\"query\": \" how many members participated in the standup\"})\n",
    "result[\"result\"]"
   ]
  },
  {
   "cell_type": "code",
   "execution_count": 15,
   "id": "b3578f4a",
   "metadata": {},
   "outputs": [
    {
     "name": "stderr",
     "output_type": "stream",
     "text": [
      "Number of requested results 4 is greater than number of elements in index 1, updating n_results = 1\n"
     ]
    },
    {
     "data": {
      "text/plain": [
       "'There are 5 different questions in the standup.'"
      ]
     },
     "execution_count": 15,
     "metadata": {},
     "output_type": "execute_result"
    }
   ],
   "source": [
    "result = qa_chain_prompt({\"query\": \"how many different questions are there in the standup\"})\n",
    "result[\"result\"]"
   ]
  },
  {
   "cell_type": "code",
   "execution_count": 16,
   "id": "d992b207",
   "metadata": {},
   "outputs": [
    {
     "name": "stderr",
     "output_type": "stream",
     "text": [
      "Number of requested results 4 is greater than number of elements in index 1, updating n_results = 1\n"
     ]
    },
    {
     "data": {
      "text/plain": [
       "'The standup dates for which the standup is submitted are as follows:\\n- \"2023-10-30\"\\n- \"2023-10-27\"\\n- \"2023-10-26\"\\n- \"2023-10-25\"\\n- \"2023-10-24\"\\n- \"2023-10-23\"\\n- \"2023-10-20\"\\n- \"2023-10-19\"\\n- \"2023-10-18\"'"
      ]
     },
     "execution_count": 16,
     "metadata": {},
     "output_type": "execute_result"
    }
   ],
   "source": [
    "result = qa_chain_prompt({\"query\": \"tell me all the dates for which standup is submitted\"})\n",
    "result[\"result\"]"
   ]
  },
  {
   "cell_type": "code",
   "execution_count": 24,
   "id": "9a80beef",
   "metadata": {},
   "outputs": [
    {
     "name": "stderr",
     "output_type": "stream",
     "text": [
      "Number of requested results 4 is greater than number of elements in index 1, updating n_results = 1\n"
     ]
    },
    {
     "data": {
      "text/plain": [
       "\"- Mayank Solanki (ID: 314704): Mayank completed tasks related to PRs and resolved some UI issues. He also worked on the bug regarding deleting a task and created a list for bootstrap update changes. (Total: 30 words)\\n- Dinesh Chauhan (ID: 319927): Dinesh faced issues with creating tags and PRs. He also worked on a bug regarding the previous state of tags and continued with his previous tasks. (Total: 41 words)\\n- Rehab (ID: 169198): Rehab mentioned that they need more tasks to work on and resolved Kyla's comments on PRs. They also reported the issue with the advanced search. (Total: 35 words)\\n- lmiaabogdady (ID: 280801): lmiaabogdady fixed issues related to PRs and worked on the UI improvements. They also had a call with Rohit and mentioned that they won't be available for the huddle call. (Total: 45 words)\""
      ]
     },
     "execution_count": 24,
     "metadata": {},
     "output_type": "execute_result"
    }
   ],
   "source": [
    "result = qa_chain_prompt({\"query\": \"group the answers submitted by all members for the standup_date: 2023-10-27. give me only the brief summary of the submitted answer for this perticular date categorized by members(answered_by). summary for each member should not be more than 50 words  \"})\n",
    "result[\"result\"]"
   ]
  },
  {
   "cell_type": "code",
   "execution_count": 25,
   "id": "d42b283b",
   "metadata": {},
   "outputs": [
    {
     "name": "stderr",
     "output_type": "stream",
     "text": [
      "Number of requested results 4 is greater than number of elements in index 1, updating n_results = 1\n"
     ]
    },
    {
     "data": {
      "text/plain": [
       "'On October 27, 2023, Mayank Solanki provided the following standup summary:\\n\\nQuestion: What did you complete yesterday?\\n- Un-archive Tasks: STR: Delete a task. Then search for that task in Advanced search. We currently cannot change task status from deleted. I want to be able to click the task status to re-activate the task. (In-progress)\\n- (UI improv) when adding a new metric show success message pop-up to be opened from any page in the project so that the viewer is not navigated away from where they are in the app. #5821\\n\\nQuestion: What do you commit to today?\\n- HB: Single project tile: make tasks fields responsive for all sizes\\n\\nQuestion: Your Daily #\\n- tasks: 7/16\\n- Open: 2\\n- R2M: 1\\n- In-progress: 2\\n\\nQuestion: Blocked/Waiting on?\\n- No response provided.\\n\\nQuestion: Any other news or items to add to retrospective?\\n- No response provided.\\n\\nPlease note that these answers were provided by Mayank Solanki on October 27, 2023.'"
      ]
     },
     "execution_count": 25,
     "metadata": {},
     "output_type": "execute_result"
    }
   ],
   "source": [
    "result = qa_chain_prompt({\"query\": \"Give me the brief standup summary report on date: 2023-10-27 only for Mayank Solanki \"})\n",
    "result[\"result\"]"
   ]
  },
  {
   "cell_type": "code",
   "execution_count": 26,
   "id": "89b4fcf8",
   "metadata": {},
   "outputs": [
    {
     "name": "stderr",
     "output_type": "stream",
     "text": [
      "Number of requested results 4 is greater than number of elements in index 1, updating n_results = 1\n"
     ]
    },
    {
     "data": {
      "text/plain": [
       "'Mayank Solanki was present on 2023-10-27 as there is data available for his standup on that date.'"
      ]
     },
     "execution_count": 26,
     "metadata": {},
     "output_type": "execute_result"
    }
   ],
   "source": [
    "result = qa_chain_prompt({\"query\": \"tell me if Mayank Solanki was present or absent on 2023-10-27 \"})\n",
    "result[\"result\"]"
   ]
  },
  {
   "cell_type": "code",
   "execution_count": 27,
   "id": "a0c2d2c5",
   "metadata": {},
   "outputs": [
    {
     "name": "stderr",
     "output_type": "stream",
     "text": [
      "Number of requested results 4 is greater than number of elements in index 1, updating n_results = 1\n"
     ]
    },
    {
     "data": {
      "text/plain": [
       "'Mayank Solanki completed the following task on 2023-10-27 in response to the Your Daily question:\\n\\n- Task: 7/16\\n- Open: 2\\n- R2M: 1\\n- In-progress: 2'"
      ]
     },
     "execution_count": 27,
     "metadata": {},
     "output_type": "execute_result"
    }
   ],
   "source": [
    "result = qa_chain_prompt({\"query\": \"tell me the task completed by Mayank Solanki on 2023-10-27 , answered in Your Daily question.\"})\n",
    "result[\"result\"]"
   ]
  },
  {
   "cell_type": "code",
   "execution_count": 30,
   "id": "7f447f68",
   "metadata": {},
   "outputs": [
    {
     "name": "stderr",
     "output_type": "stream",
     "text": [
      "Number of requested results 4 is greater than number of elements in index 1, updating n_results = 1\n"
     ]
    },
    {
     "data": {
      "text/plain": [
       "\"Based on the given data, here are the tasks completed by Mayank Solanki, answered by him in the 'Your Daily #' question for all standup dates:\\n\\nStandup Date: 2023-10-30\\n- Question: Your Daily #\\n- Answer: tasks: 13/20\\n- Member ID: 314704\\n\\nStandup Date: 2023-10-27\\n- Question: Your Daily #\\n- Answer: tasks: 7/16\\n- Member ID: 314704\\n\\nStandup Date: 2023-10-26\\n- Question: Your Daily #\\n- Answer: tasks: 5/12\\n- Member ID: 314704\\n\\nStandup Date: 2023-10-25\\n- Question: Your Daily #\\n- Answer: tasks: 5/12\\n- Member ID: 314704\\n\\nStandup Date: 2023-10-24\\n- Question: Your Daily #\\n- Answer: tasks: 5/11\\n- Member ID: 314704\\n\\nStandup Date: 2023-10-23\\n- Question: Your Daily #\\n- Answer: tasks: 5/11\\n- Member ID: 314704\\n\\nStandup Date: 2023-10-20\\n- Question: Your Daily #\\n- Answer: tasks: 5/11\\n- Member ID: 314704\\n\\nStandup Date: 2023-10-19\\n- Question: Your Daily #\\n- Answer: tasks: 5/10\\n- Member ID: 314704\\n\\nStandup Date: 2023-10-18\\n- Question: Your Daily #\\n- Answer: tasks: 2/9\\n- Member ID: 314704\""
      ]
     },
     "execution_count": 30,
     "metadata": {},
     "output_type": "execute_result"
    }
   ],
   "source": [
    "result = qa_chain_prompt({\"query\": \"tell me the task completed by Mayank Solanki , answered by him in 'Your Daily #' question for all standup dates\"})\n",
    "result[\"result\"]"
   ]
  },
  {
   "cell_type": "code",
   "execution_count": 32,
   "id": "e6b7d3be",
   "metadata": {},
   "outputs": [
    {
     "name": "stderr",
     "output_type": "stream",
     "text": [
      "Number of requested results 4 is greater than number of elements in index 1, updating n_results = 1\n"
     ]
    },
    {
     "data": {
      "text/plain": [
       "'Based on the information provided, we can determine the most hardworking member in your team by analyzing their answers to the question \"What did you do yesterday?\". Let\\'s examine the answers for each member:\\n\\nMayank Solanki (ID: 314704):\\n- Answered the question multiple times.\\n- Worked on tasks related to bug fixing, UI improvements, and updates.\\n- Addressed Kyla\\'s comments on pull requests.\\n\\nDinesh Chauhan (ID: 319927):\\n- Answered the question multiple times.\\n- Worked on tasks related to bug fixing, tag management, and central logs.\\n- Commented on PRs and checked issues.\\n\\nRehab (ID: 169198):\\n- Answered the question multiple times.\\n- Worked on tasks related to bug fixing, UI improvements, and tags management.\\n- Provided feedback on PRs and checked issues.\\n\\nIabogdady (ID: 280801):\\n- Answered the question multiple times.\\n- Worked on tasks related to bug fixing, UI improvements, and advanced search.\\n- Participated in meetings and calls with colleagues.\\n\\nBased on the information provided, it is difficult to determine the most hardworking member as all members have actively contributed to various tasks and responsibilities. Each member has shown commitment and dedication to their work. It would be best to evaluate their overall performance and contributions over a longer period of time to make a fair assessment.'"
      ]
     },
     "execution_count": 32,
     "metadata": {},
     "output_type": "execute_result"
    }
   ],
   "source": [
    "result = qa_chain_prompt({\"query\": \"what do you think who is most hard working member in my team , base your answer on the question 'what did you do yesterday'.\"})\n",
    "result[\"result\"]"
   ]
  },
  {
   "cell_type": "code",
   "execution_count": 19,
   "id": "a44953ec",
   "metadata": {},
   "outputs": [
    {
     "name": "stderr",
     "output_type": "stream",
     "text": [
      "Number of requested results 4 is greater than number of elements in index 2, updating n_results = 2\n",
      "C:\\Users\\Dinesh Chauhan\\anaconda3\\Lib\\site-packages\\langchain\\chains\\llm.py:321: UserWarning: The predict_and_parse method is deprecated, instead pass an output parser directly to LLMChain.\n",
      "  warnings.warn(\n",
      "C:\\Users\\Dinesh Chauhan\\anaconda3\\Lib\\site-packages\\langchain\\chains\\llm.py:321: UserWarning: The predict_and_parse method is deprecated, instead pass an output parser directly to LLMChain.\n",
      "  warnings.warn(\n"
     ]
    },
    {
     "data": {
      "text/plain": [
       "'Based on the given context information, the questions asked during the standup are:\\n\\n1. \"What did you complete yesterday?\"\\n2. \"What do you commit to today? (Specifically your next 3 tasks)\"\\n3. \"Your Daily #: (for devs, for current sprint: # Tasks completed/PRs were merged? How many PRs still open?\"\\n4. \"Blocked/Waiting on? or other notable info(if you need inputs or reviews on anything list it here)\"\\n5. \"Any other news or items to add to retrospective? (news, wins, add to retrospective, problems to solve)\"\\n\\nThese are the questions that individuals answered during the standup meeting.'"
      ]
     },
     "execution_count": 19,
     "metadata": {},
     "output_type": "execute_result"
    }
   ],
   "source": [
    "result = qa_chain({\"query\": \"the given data is in json format. where person gives their anwer to some standup question on a specific date. tell me all the questions asked\"})\n",
    "result[\"result\"]"
   ]
  },
  {
   "cell_type": "code",
   "execution_count": 15,
   "id": "b1d8d342",
   "metadata": {},
   "outputs": [
    {
     "name": "stderr",
     "output_type": "stream",
     "text": [
      "Number of requested results 4 is greater than number of elements in index 1, updating n_results = 1\n"
     ]
    },
    {
     "data": {
      "text/plain": [
       "'The given data is about standup meetings. It includes information about what each team member completed the previous day, what they commit to completing today, their daily task status, and any blockers or issues they are currently facing. The data also includes the ID of each team member who submitted the standup.'"
      ]
     },
     "execution_count": 15,
     "metadata": {},
     "output_type": "execute_result"
    }
   ],
   "source": [
    "result = qa_chain({\"query\": \"\"\"the given data is in json format. answered_by field is id of members who submitted the standup.\n",
    "314704 is ID of Mayank Solanki, 319927  is ID of Dinesh Chauhan 169198 is ID of Rehab 280801 is ID of lmiaabogdady . \n",
    "Similarly the relation between question_id to Question text is as follows \n",
    "question_id:242294, question text: What did you complete yesterday?\n",
    "question_id: 242401, question text: What do you commit to today?\n",
    "question_id: 243322, question text: Your Daily #\n",
    "question_id: 242297 , question text: Blocked/Waiting on?\n",
    "question_id: 242298, question text: Any other news or items to add to retrospective?\n",
    "Now tell me what this data is about.\n",
    "\"\"\"})\n",
    "result[\"result\"]"
   ]
  },
  {
   "cell_type": "code",
   "execution_count": 19,
   "id": "e2362a93",
   "metadata": {},
   "outputs": [
    {
     "name": "stderr",
     "output_type": "stream",
     "text": [
      "Number of requested results 4 is greater than number of elements in index 1, updating n_results = 1\n"
     ]
    },
    {
     "data": {
      "text/plain": [
       "'Mayank Solanki has answered the question \"Your Daily #\" in all the submitted standups.'"
      ]
     },
     "execution_count": 19,
     "metadata": {},
     "output_type": "execute_result"
    }
   ],
   "source": [
    "result = qa_chain({\"query\": \"\"\"the given data is in json format. answered_by field is id of members who submitted the standup.\n",
    "the standup_date gives the date on which perticular standup question was answered by the team member\n",
    "314704 is ID of Mayank Solanki, 319927  is ID of Dinesh Chauhan 169198 is ID of Rehab 280801 is ID of lmiaabogdady . \n",
    "Similarly the relation between question_id to Question text is as follows \n",
    "question_id:242294, question text: What did you complete yesterday?\n",
    "question_id: 242401, question text: What do you commit to today?\n",
    "question_id: 243322, question text: Your Daily #\n",
    "question_id: 242297 , question text: Blocked/Waiting on?\n",
    "question_id: 242298, question text: Any other news or items to add to retrospective?\n",
    "Now give full report on answer to this specific question : Your Daily # by Mayank Solanki on all standups submitted\n",
    "\"\"\"})\n",
    "result[\"result\"]"
   ]
  },
  {
   "cell_type": "code",
   "execution_count": 54,
   "id": "12a94e30",
   "metadata": {},
   "outputs": [
    {
     "name": "stderr",
     "output_type": "stream",
     "text": [
      "Number of requested results 4 is greater than number of elements in index 1, updating n_results = 1\n"
     ]
    },
    {
     "data": {
      "text/plain": [
       "'The IDs of the people who answered the questions provided in the \"answered_by\" field are: 314704, 169198, 319927, and 280801.'"
      ]
     },
     "execution_count": 54,
     "metadata": {},
     "output_type": "execute_result"
    }
   ],
   "source": [
    "result = qa_chain({\"query\": \"the given data is in json format. where person gives their anwer to some standup question on a specific date. tell me all Ids of people who answered the questions provided in answered_by field\"})\n",
    "result[\"result\"]"
   ]
  },
  {
   "cell_type": "code",
   "execution_count": 24,
   "id": "03d55404",
   "metadata": {},
   "outputs": [
    {
     "name": "stderr",
     "output_type": "stream",
     "text": [
      "Number of requested results 4 is greater than number of elements in index 2, updating n_results = 2\n",
      "C:\\Users\\Dinesh Chauhan\\anaconda3\\Lib\\site-packages\\langchain\\chains\\llm.py:321: UserWarning: The predict_and_parse method is deprecated, instead pass an output parser directly to LLMChain.\n",
      "  warnings.warn(\n",
      "C:\\Users\\Dinesh Chauhan\\anaconda3\\Lib\\site-packages\\langchain\\chains\\llm.py:321: UserWarning: The predict_and_parse method is deprecated, instead pass an output parser directly to LLMChain.\n",
      "  warnings.warn(\n"
     ]
    },
    {
     "data": {
      "text/plain": [
       "'Here is the refined report for the person identified by \"answered_by: 314704\" on the specific question \"Your Daily #: (for devs, for current sprint: # Tasks completed/PRs were merged? How many PRs still open?)\" for all standup dates:\\n\\n- Standup Date: 2023-10-17\\n  Answer: tasks: 2/9\\n          Open: 0\\n          In-progress: 1\\n\\n- Standup Date: 2023-10-30\\n  Answer: tasks: 15/23\\n          Open: 2\\n          In-progress: 1\\n\\nThe additional standup date and its corresponding answer have been included in the report.'"
      ]
     },
     "execution_count": 24,
     "metadata": {},
     "output_type": "execute_result"
    }
   ],
   "source": [
    "result = qa_chain({\"query\": \"the given data is in json format. where person gives their anwer to some standup question on a specific date maked by standup_date field. tell me  report on for answered_by :314704 on this specific question : Your Daily#  for all standup date\"})\n",
    "result[\"result\"]"
   ]
  },
  {
   "cell_type": "code",
   "execution_count": 55,
   "id": "c87e94b7",
   "metadata": {},
   "outputs": [
    {
     "name": "stderr",
     "output_type": "stream",
     "text": [
      "C:\\Users\\Dinesh Chauhan\\anaconda3\\Lib\\site-packages\\langchain\\llms\\openai.py:216: UserWarning: You are trying to use a chat model. This way of initializing it is no longer supported. Instead, please use: `from langchain.chat_models import ChatOpenAI`\n",
      "  warnings.warn(\n",
      "C:\\Users\\Dinesh Chauhan\\anaconda3\\Lib\\site-packages\\langchain\\llms\\openai.py:811: UserWarning: You are trying to use a chat model. This way of initializing it is no longer supported. Instead, please use: `from langchain.chat_models import ChatOpenAI`\n",
      "  warnings.warn(\n",
      "C:\\Users\\Dinesh Chauhan\\anaconda3\\Lib\\site-packages\\langchain\\chains\\retrieval_qa\\base.py:251: UserWarning: `VectorDBQA` is deprecated - please use `from langchain.chains import RetrievalQA`\n",
      "  warnings.warn(\n"
     ]
    }
   ],
   "source": [
    "qa = VectorDBQA.from_chain_type(llm=OpenAI(openai_api_key=\"\",model_name= 'gpt-3.5-turbo-16k'),chain_type=\"stuff\",vectorstore=docsearch)"
   ]
  },
  {
   "cell_type": "code",
   "execution_count": 57,
   "id": "1f603d74",
   "metadata": {},
   "outputs": [],
   "source": [
    "query=\" what this data is about\""
   ]
  },
  {
   "cell_type": "code",
   "execution_count": 58,
   "id": "2bf07567",
   "metadata": {},
   "outputs": [
    {
     "data": {
      "text/plain": [
       "'The data provided is about standup meetings, specifically the questions asked during the meetings and the dates on which they were conducted.'"
      ]
     },
     "execution_count": 58,
     "metadata": {},
     "output_type": "execute_result"
    }
   ],
   "source": [
    "qa.run(query)"
   ]
  },
  {
   "cell_type": "code",
   "execution_count": 59,
   "id": "a1bc0073",
   "metadata": {},
   "outputs": [
    {
     "data": {
      "text/plain": [
       "'The format of the data is provided in HTML list format using either the \"<ul>\" or \"<ol>\" tags.'"
      ]
     },
     "execution_count": 59,
     "metadata": {},
     "output_type": "execute_result"
    }
   ],
   "source": [
    "qa.run(\"what is the format of  data \")"
   ]
  },
  {
   "cell_type": "code",
   "execution_count": 60,
   "id": "d2b60ddc",
   "metadata": {},
   "outputs": [
    {
     "data": {
      "text/plain": [
       "'The standup submissions are for the dates 2023-10-19, 2023-10-20, and 2023-10-27.'"
      ]
     },
     "execution_count": 60,
     "metadata": {},
     "output_type": "execute_result"
    }
   ],
   "source": [
    "qa.run(\"what is the date for which standup are submitted\")"
   ]
  },
  {
   "cell_type": "code",
   "execution_count": 160,
   "id": "595b069a",
   "metadata": {},
   "outputs": [
    {
     "data": {
      "text/plain": [
       "'Based on the provided context, there are 5 objects in the array.'"
      ]
     },
     "execution_count": 160,
     "metadata": {},
     "output_type": "execute_result"
    }
   ],
   "source": [
    "qa.run(\"How many objects are there in array\")"
   ]
  },
  {
   "cell_type": "code",
   "execution_count": null,
   "id": "93048976",
   "metadata": {},
   "outputs": [],
   "source": []
  },
  {
   "cell_type": "code",
   "execution_count": 61,
   "id": "4638ef26",
   "metadata": {},
   "outputs": [
    {
     "data": {
      "text/plain": [
       "'319927'"
      ]
     },
     "execution_count": 61,
     "metadata": {},
     "output_type": "execute_result"
    }
   ],
   "source": [
    "query=\"Tell me the personId of all  who submitted the standup\"\n",
    "qa.run(query)"
   ]
  },
  {
   "cell_type": "code",
   "execution_count": 26,
   "id": "2667f70f",
   "metadata": {},
   "outputs": [
    {
     "data": {
      "text/plain": [
       "'There are 4 answers.'"
      ]
     },
     "execution_count": 26,
     "metadata": {},
     "output_type": "execute_result"
    }
   ],
   "source": [
    "qa.run(\"how many answers are there\")"
   ]
  },
  {
   "cell_type": "code",
   "execution_count": 148,
   "id": "efb6f906",
   "metadata": {},
   "outputs": [
    {
     "data": {
      "text/plain": [
       "'There is no information provided about the standup posted for the date 2023-10-24.'"
      ]
     },
     "execution_count": 148,
     "metadata": {},
     "output_type": "execute_result"
    }
   ],
   "source": [
    "qa.run(\"is there standup posted for this date : 2023-10-24\")"
   ]
  },
  {
   "cell_type": "code",
   "execution_count": null,
   "id": "2bd67983",
   "metadata": {},
   "outputs": [],
   "source": []
  },
  {
   "cell_type": "code",
   "execution_count": 132,
   "id": "bf3f4938",
   "metadata": {},
   "outputs": [
    {
     "data": {
      "text/plain": [
       "'Standup Question: \"What did you complete yesterday?\"\\n- Date: October 24, 2023\\n- Response:\\n  - Lmiaa Bogdady: \\n    - Update PRs from latest staging\\n    - Un-archive Tasks: STR: Delete a task. Then search for that task in Advanced search. We currently cannot change task status from deleted. I want to be able to click the task status to re-activate the task.\\n    - 1:1 with Kyla\\n\\nStandup Question: \"What do you commit to today? (Specifically your next 3 tasks)\"\\n- Date: October 24, 2023\\n- Response:\\n  - Lmiaa Bogdady:\\n    - Continue with last one\\n    - Add \"Single Row Input\" Tile to Metric Charts Tab.\\n\\nStandup Question: \"Your Daily # (for devs, for current sprint: # Tasks completed/PRs were merged? How many PRs still open?)\"\\n- Date: October 24, 2023\\n- Response:\\n  - Lmiaa Bogdady:\\n    - Open: 5\\n    - Total: 31\\n\\nStandup Question: \"Blocked/Waiting on? or other notable info (if you need inputs or reviews on anything list it here)\"\\n- Date: October 24, 2023\\n- Response:\\n  - Lmiaa Bogdady: --\\n  \\nStandup Question: \"Any other news or items to add to retrospective? (news, wins, add to retrospective, problems to solve)\"\\n- Date: October 24, 2023\\n- Response:\\n  - Lmiaa Bogdady: --\\n\\nStandup Question: \"What did you complete yesterday?\"\\n- Date: October 23, 2023\\n- Response:\\n  - Lmiaa Bogdady:\\n    - (UI improv) Add new Metric: when adding a new metric show success message pop-up that has buttons to \"open metric,\" \"okay,\" and \"x\" - can metric modal be opened from any page in the project so that the viewer is not navigated away from where they are in the app.\\n    - <Cloudwatch Error> error - Uncaught Exception thrown Cannot read property \\'id\\' of undefined TypeError: Cannot read property \\'id\\' of undefined\\n    - (Ux/ui imp) Project Portfolio Timeline View: Update date picker to have preset date ranges (this week, month, quarter, year) and consolidate start and end date picker into singular calendar component\\n    - Call with Rohit\\n\\nStandup Question: \"What do you commit to today? (Specifically your next 3 tasks)\"\\n- Date: October 23, 2023\\n- Response:\\n  - Lmiaa Bogdady:\\n    - Call 1:1 with Kyla\\n    - Continue with last one\\n\\nStandup Question: \"Your Daily # (for devs, for current sprint: # Tasks completed/PRs were merged? How many PRs still open?)\"\\n- Date: October 23, 2023\\n- Response:\\n  - Lmiaa Bogdady:\\n    - Open: 7\\n    - Total: 29\\n\\nStandup Question: \"Blocked/Waiting on? or other notable info (if you need inputs or reviews on anything list it here)\"\\n- Date: October 23, 2023\\n- Response:\\n  - Lmiaa Bogdady: Keith... can you please give me a decision regarding https://github.com/KPIFire/kpifire/pull/5775? Or should I close it for now?\\n\\nStandup Question: \"Any other news or items to add to retrospective? (news, wins, add to retrospective, problems to solve)\"\\n- Date: October 23, 2023\\n- Response:\\n  - Lmiaa Bogdady: --\\n  \\nStandup Question: \"What did you complete yesterday?\"\\n- Date: October 17, 2023\\n- Response:\\n  - Lmiaa Bogdady:\\n    - <Bug> Saved View Bug: Table Filters Missing in \\'Edit View\\' Pop-up (80% done)\\n    \\nStandup Question: \"What do you commit to today? (Specifically your next 3 tasks)\"\\n- Date: October 17, 2023\\n- Response:\\n  - Lmiaa Bogdady:\\n    - <Bug> Saved View Bug: Table Filters Missing in \\'Edit View\\' Pop-up\\n    - Next tasks\\n\\nStandup Question: \"Your Daily # (for devs, for current sprint: # Tasks completed/PRs were merged? How many PRs still open?)\"\\n- Date: October 17, 2023\\n- Response:\\n  - Lmiaa Bogdady:\\n    - Tasks: 2/9\\n    - Open: 0\\n    - In-progress: 1\\n\\nStandup Question: \"Blocked/Waiting on? or other notable info (if you need inputs or reviews on anything list it here)\"\\n- Date: October 17, 2023\\n- Response:\\n  - Lmiaa Bogdady: --\\n\\nStandup Question: \"Any other news or items to add to retrospective? (news, wins, add to retrospective, problems to solve)\"\\n- Date: October 17, 2023\\n- Response:\\n  - Lmiaa Bogdady: --'"
      ]
     },
     "execution_count": 132,
     "metadata": {},
     "output_type": "execute_result"
    }
   ],
   "source": [
    "qa.run(\"give me brief summary standups submitted by Lmiaa Bogdady, categorized by standup questions. Dont include the questions in your answer\")"
   ]
  },
  {
   "cell_type": "code",
   "execution_count": 133,
   "id": "70ec44d9",
   "metadata": {},
   "outputs": [
    {
     "data": {
      "text/plain": [
       "'According to the given context, Lmiaa Bogdady completed 3 tasks.'"
      ]
     },
     "execution_count": 133,
     "metadata": {},
     "output_type": "execute_result"
    }
   ],
   "source": [
    "qa.run(\"How many tasks are done by Lmiaa Bogdady\")"
   ]
  },
  {
   "cell_type": "code",
   "execution_count": 20,
   "id": "236c87bd",
   "metadata": {},
   "outputs": [
    {
     "name": "stderr",
     "output_type": "stream",
     "text": [
      "Number of requested results 4 is greater than number of elements in index 1, updating n_results = 1\n"
     ]
    },
    {
     "data": {
      "text/plain": [
       "' Jayanti Sharma'"
      ]
     },
     "execution_count": 20,
     "metadata": {},
     "output_type": "execute_result"
    }
   ],
   "source": [
    "qa.run(\"who did not filled a standup\")"
   ]
  },
  {
   "cell_type": "code",
   "execution_count": 114,
   "id": "599b5fc4",
   "metadata": {},
   "outputs": [
    {
     "data": {
      "text/plain": [
       "'Yes, there are issues or concerns reported by team members. \\nOn the date \"2023-10-23\", the team member with personId 280801 reported the following issue: \\n- Blocked/Waiting on? or other notable info(if you need inputs or reviews on anything list it here): keith .. can you please give me decision regarding https://github.com/KPIFire/kpifire/pull/5775 ? or should i close it for now ?\\n\\nOn the date \"2023-10-05\", no issues or concerns were reported by any team member.\\n\\nOn the date \"2023-10-18\", the team members with personId 314704, 319927, and 280801 reported the following issues or concerns:\\n- For personId 314704: Blocked/Waiting on? or other notable info(if you need inputs or reviews on anything list it here): None\\n- For personId 319927: Blocked/Waiting on? or other notable info(if you need inputs or reviews on anything list it here): None\\n- For personId 280801: Blocked/Waiting on? or other notable info(if you need inputs or reviews on anything list it here): None'"
      ]
     },
     "execution_count": 114,
     "metadata": {},
     "output_type": "execute_result"
    }
   ],
   "source": [
    "qa.run(\"are there any issue or concern reported by any member? Also tell me on which date\")\n"
   ]
  },
  {
   "cell_type": "code",
   "execution_count": 22,
   "id": "80bfc785",
   "metadata": {},
   "outputs": [
    {
     "name": "stderr",
     "output_type": "stream",
     "text": [
      "Number of requested results 4 is greater than number of elements in index 1, updating n_results = 1\n"
     ]
    },
    {
     "data": {
      "text/plain": [
       "' The date of this standup is 2023-11-01.'"
      ]
     },
     "execution_count": 22,
     "metadata": {},
     "output_type": "execute_result"
    }
   ],
   "source": [
    "qa.run(\"what is the date of this standup?\")\n"
   ]
  },
  {
   "cell_type": "code",
   "execution_count": 23,
   "id": "3545c44c",
   "metadata": {},
   "outputs": [
    {
     "name": "stderr",
     "output_type": "stream",
     "text": [
      "Number of requested results 4 is greater than number of elements in index 1, updating n_results = 1\n"
     ]
    },
    {
     "data": {
      "text/plain": [
       "'\\nThe standup responses show that Ashish Rawat is working on creating a Toolbox page to make the prior sidebar nav obsolete, working on previous bugs in the PGS project, and looking into issues regarding CVV. Dinesh Chauhan is working on CHat Gpt Integeration with standup Alice, reviewing PRs from Ashish and Deepankar, and looking into some issues shared by Deepankar. Deepankar Batra is working on XSS protection, a bot in local, and a bot in staging. Ashish is committed to working on the Whole Team plan page in PGS for the next two days, while Dinesh and Deepankar are continuing their respective tasks and estimate they will be done within a week and three days, respectively. Jayanti Sharma may not be available to do QA of the task delivered.\\n\\nFor attendance, Ashish Rawat, Dinesh Chauhan, and Deepankar Batra are present, while Jayanti Sharma is absent.\\n\\nOverall, the team appears to be on track with the current sprint, though there is a potential impediment with Jayanti Sharma not being available for QA.'"
      ]
     },
     "execution_count": 23,
     "metadata": {},
     "output_type": "execute_result"
    }
   ],
   "source": [
    "qa.run(\"Create a  summary of standup categoried by answers given by members in one paragraph. In a another pragraph give me attendance report categorizing member into sick, on vacation , standup filed, standup not filed. In another paragraph give brief summary of overall standup telling me if team is on track , are there any concerns from team.\")\n"
   ]
  },
  {
   "cell_type": "code",
   "execution_count": null,
   "id": "b62abe30",
   "metadata": {},
   "outputs": [],
   "source": []
  }
 ],
 "metadata": {
  "kernelspec": {
   "display_name": "Python 3 (ipykernel)",
   "language": "python",
   "name": "python3"
  },
  "language_info": {
   "codemirror_mode": {
    "name": "ipython",
    "version": 3
   },
   "file_extension": ".py",
   "mimetype": "text/x-python",
   "name": "python",
   "nbconvert_exporter": "python",
   "pygments_lexer": "ipython3",
   "version": "3.11.4"
  }
 },
 "nbformat": 4,
 "nbformat_minor": 5
}
